{
 "cells": [
  {
   "cell_type": "code",
   "execution_count": 4,
   "metadata": {},
   "outputs": [
    {
     "data": {
      "text/plain": [
       "[1, 3]"
      ]
     },
     "execution_count": 4,
     "metadata": {},
     "output_type": "execute_result"
    }
   ],
   "source": [
    "def i_caminata(L,d,p,n):\n",
    "    # Definimos la variable avance\n",
    "    avance = 0\n",
    "    listap = []\n",
    "\n",
    "    # Ahora recorremos la lista de puntos de parada\n",
    "    for i in range(n):\n",
    "        # Mientras que lo que se puede avanzar en un día sea menor a la distancia total\n",
    "        if (avance + d < L):\n",
    "            # Si el punto de parada está a mayor distancia me detengo por el día\n",
    "            if ( p[i] > avance + d) :\n",
    "                avance = p[i-1] ;# el punto de parada donde me detuve en el día\n",
    "                listap.append(i-1);\n",
    "    return listap\n",
    "\n",
    "# La distancia a recorrer en Km.\n",
    "L = 62\n",
    "\n",
    "# Los puntos de paradas en Km.\n",
    "p = [10, 20, 30, 40, 50, 60] \n",
    "\n",
    "# El número de puntos de parada\n",
    "n = len(p)\n",
    "\n",
    "# Distancia máxima a recorrer por día\n",
    "d = 23\n",
    "\n",
    "i_caminata(L,d,p,n)"
   ]
  },
  {
   "cell_type": "code",
   "execution_count": null,
   "metadata": {},
   "outputs": [],
   "source": []
  }
 ],
 "metadata": {
  "kernelspec": {
   "display_name": "Python 3",
   "language": "python",
   "name": "python3"
  },
  "language_info": {
   "codemirror_mode": {
    "name": "ipython",
    "version": 3
   },
   "file_extension": ".py",
   "mimetype": "text/x-python",
   "name": "python",
   "nbconvert_exporter": "python",
   "pygments_lexer": "ipython3",
   "version": "3.7.0"
  }
 },
 "nbformat": 4,
 "nbformat_minor": 2
}
